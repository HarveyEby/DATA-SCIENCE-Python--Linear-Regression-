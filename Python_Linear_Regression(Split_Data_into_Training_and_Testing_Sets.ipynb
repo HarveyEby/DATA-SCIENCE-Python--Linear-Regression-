{
  "nbformat": 4,
  "nbformat_minor": 0,
  "metadata": {
    "colab": {
      "provenance": [],
      "collapsed_sections": [],
      "authorship_tag": "ABX9TyO6dRui11Og+1oYBJtehbUF",
      "include_colab_link": true
    },
    "kernelspec": {
      "name": "python3",
      "display_name": "Python 3"
    },
    "language_info": {
      "name": "python"
    }
  },
  "cells": [
    {
      "cell_type": "markdown",
      "metadata": {
        "id": "view-in-github",
        "colab_type": "text"
      },
      "source": [
        "<a href=\"https://colab.research.google.com/github/HarveyEby/headache/blob/main/Python_Linear_Regression(Split_Data_into_Training_and_Testing_Sets.ipynb\" target=\"_parent\"><img src=\"https://colab.research.google.com/assets/colab-badge.svg\" alt=\"Open In Colab\"/></a>"
      ]
    },
    {
      "cell_type": "code",
      "execution_count": 7,
      "metadata": {
        "colab": {
          "base_uri": "https://localhost:8080/",
          "height": 313
        },
        "id": "I8J6tvL2kRE8",
        "outputId": "21763c57-38bf-47c8-a5f3-36a0e4c55668"
      },
      "outputs": [
        {
          "output_type": "stream",
          "name": "stdout",
          "text": [
            "coefficient:  [42.85335573]\n",
            "Intercept:  -1.6283636540614523\n"
          ]
        },
        {
          "output_type": "display_data",
          "data": {
            "text/plain": [
              "<Figure size 432x288 with 1 Axes>"
            ],
            "image/png": "[encoded data removed]"
          },
          "metadata": {
            "needs_background": "light"
          }
        }
      ],
      "source": [
        "import numpy as np #linear algebra\n",
        "import pandas as pd # data processing, csv file I/O(e.g. pd.read_csv)\n",
        "import matplotlib.pyplot as plt # MATLAB-like way of plotting\n",
        "\n",
        "#sklearn package for machine learning in python:\n",
        "\n",
        "from sklearn.model_selection import train_test_split\n",
        "from sklearn.linear_model import LinearRegression\n",
        "from sklearn.datasets import make_regression\n",
        "\n",
        "x,y= make_regression(n_samples=100, n_features=1, noise=20, random_state=0)\n",
        "\n",
        "regr=LinearRegression()\n",
        "regr.fit(x,y)\n",
        "\n",
        "print('coefficient: ', regr.coef_)\n",
        "print('Intercept: ', regr.intercept_)\n",
        "\n",
        "\n",
        "#visualise initial data sets\n",
        "Fig1, ax1 = plt.subplots()\n",
        "\n",
        "ax1.scatter(x,y, color='blue')\n",
        "\n",
        "ax1.plot(x,regr.predict(x), color='red')\n",
        "\n",
        "ax1.set_xlabel('x')\n",
        "ax1.set_ylabel('y')\n",
        "\n",
        "\n",
        "#split the data into training and test sets:\n",
        "\n",
        "x_train, x_test, y_train, y_test = train_test_split(x,y, test_size=1/3, \n",
        "                                                    random_state=0)\n",
        "\n",
        "plt.show()\n"
      ]
    }
  ]
}